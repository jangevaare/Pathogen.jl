{
 "cells": [
  {
   "cell_type": "markdown",
   "metadata": {},
   "source": [
    "# SIR Simulation"
   ]
  },
  {
   "cell_type": "code",
   "execution_count": 1,
   "metadata": {},
   "outputs": [
    {
     "name": "stderr",
     "output_type": "stream",
     "text": [
      "┌ Info: Precompiling Pathogen [c8189ad9-0349-5cbb-98f2-579781f27e5c]\n",
      "└ @ Base loading.jl:1260\n"
     ]
    }
   ],
   "source": [
    "# Required packages\n",
    "using Distances,\n",
    "      Pathogen,\n",
    "      Random,\n",
    "      Plots,\n",
    "      Plots.PlotMeasures; # Plots.PlotMeasures is used for advanced formatting control for figure output\n",
    "\n",
    "# Set seed\n",
    "Random.seed!(11235);"
   ]
  },
  {
   "cell_type": "code",
   "execution_count": 2,
   "metadata": {},
   "outputs": [
    {
     "data": {
      "text/plain": [
       "Population object (n=100)"
      ]
     },
     "execution_count": 2,
     "metadata": {},
     "output_type": "execute_result"
    }
   ],
   "source": [
    "# Generate population\n",
    "n = 100\n",
    "risks = DataFrame(x = rand(Uniform(0, 15), n),\n",
    "                  y = rand(Uniform(0, 30), n),\n",
    "                  riskfactor1 = rand(Gamma(), n))\n",
    "\n",
    "# Precalculate distances\n",
    "dists = [euclidean([risks[i, :x];\n",
    "                    risks[i, :y]],\n",
    "                   [risks[j, :x];\n",
    "                    risks[j, :y]]) for i = 1:n, j = 1:n]\n",
    "\n",
    "pop = Population(risks, dists)"
   ]
  },
  {
   "cell_type": "code",
   "execution_count": 3,
   "metadata": {},
   "outputs": [
    {
     "data": {
      "text/plain": [
       "SIR model risk function parameters"
      ]
     },
     "execution_count": 3,
     "metadata": {},
     "output_type": "execute_result"
    }
   ],
   "source": [
    "# Define risk functions/TN-ILM structure\n",
    "function _constant(θ::Vector{Float64}, pop::Population, i::Int64)\n",
    "  return θ[1]\n",
    "end\n",
    "\n",
    "function _zero(θ::Vector{Float64}, pop::Population, i::Int64)\n",
    "  return 0.0\n",
    "end\n",
    "\n",
    "function _one(θ::Vector{Float64}, pop::Population, i::Int64)\n",
    "  return 1.0\n",
    "end\n",
    "\n",
    "function _linear(θ::Vector{Float64}, pop::Population, i::Int64)\n",
    "  return θ[1] * pop.risks[i, :riskfactor1]\n",
    "end\n",
    "\n",
    "function _powerlaw(θ::Vector{Float64}, pop::Population, i::Int64, k::Int64)\n",
    "  d = pop.distances[k, i]\n",
    "  return d^(-θ[1])\n",
    "end\n",
    "\n",
    "rf = RiskFunctions{SIR}(_zero, # sparks function\n",
    "                        _one, # susceptibility function\n",
    "                        _powerlaw, # infectivity function\n",
    "                        _one, # transmissability function\n",
    "                        _linear) # removal function\n",
    "\n",
    "# Parametrize risk functions for simulation\n",
    "rparams = RiskParameters{SIR}(Float64[], # sparks function parameter(s)\n",
    "                              Float64[], # susceptibility function parameter(s)\n",
    "                              [4.0], # infectivity function parameter(s)\n",
    "                              Float64[], # transmissibility function parameter(s)\n",
    "                              [0.1]) # removal function parameter(s)"
   ]
  },
  {
   "cell_type": "code",
   "execution_count": 4,
   "metadata": {},
   "outputs": [
    {
     "data": {
      "text/plain": [
       "SIR Pathogen.PhylodynamicILM epidemic simulation @ time = 200.0\n",
       "\n",
       "S = 2\n",
       "I = 5\n",
       "R = 93"
      ]
     },
     "execution_count": 4,
     "metadata": {},
     "output_type": "execute_result"
    }
   ],
   "source": [
    "# Set starting states in population\n",
    "# Set first individual as infectious, others as susceptible to start\n",
    "starting_states = [State_I; fill(State_S, n-1)]\n",
    "\n",
    "# Initialize Simulation\n",
    "sim = Simulation(pop, starting_states, rf, rparams, JC69(0.5))\n",
    "\n",
    "# Simulate!\n",
    "simulate!(sim, tmax=200.0)"
   ]
  },
  {
   "cell_type": "code",
   "execution_count": 5,
   "metadata": {},
   "outputs": [],
   "source": [
    "gr(dpi=200) # GR backend with DPI = 200\n",
    "\n",
    "# Epidemic Curve\n",
    "p1 = plot(sim.events, 0.0, 200.0, legendfont=font(6), xaxis=font(10), bottom_margin=30px)\n",
    "\n",
    "# Population/TransmissionNetwork plots\n",
    "p2=plot(sim.transmission_network, sim.population, sim.events, 0.0, title=\"Time = 0\", titlefontsize = 8)\n",
    "p3=plot(sim.transmission_network, sim.population, sim.events, 10.0, title=\"Time = 10\", titlefontsize = 8)\n",
    "p4=plot(sim.transmission_network, sim.population, sim.events, 20.0, title=\"Time = 20\", titlefontsize = 8)\n",
    "p5=plot(sim.transmission_network, sim.population, sim.events, 30.0, title=\"Time = 30\", titlefontsize = 8)\n",
    "p6=plot(sim.transmission_network, sim.population, sim.events, 50.0, title=\"Time = 50\", titlefontsize = 8)\n",
    "\n",
    "l = @layout [a\n",
    "             grid(1,5)]\n",
    "combinedplots1 = plot(p1, p2, p3, p4, p5, p6, layout=l)\n",
    "png(combinedplots1, joinpath(@__DIR__, \"epiplot.png\"))"
   ]
  },
  {
   "cell_type": "markdown",
   "metadata": {},
   "source": [
    "![Epidemic Visualization](epiplot.png)"
   ]
  },
  {
   "cell_type": "code",
   "execution_count": 6,
   "metadata": {},
   "outputs": [
    {
     "name": "stderr",
     "output_type": "stream",
     "text": [
      "┌ Info: Saved animation to \n",
      "│   fn = /Users/justin/.julia/dev/Pathogen/examples/SIR Simulation/epianimation.gif\n",
      "└ @ Plots /Users/justin/.julia/packages/Plots/cc8wh/src/animation.jl:98\n"
     ]
    }
   ],
   "source": [
    "# Transmission animation\n",
    "anim = @animate for simtime = range(0.0, 200.0, step=1.0)\n",
    "    p1 = plot(sim.transmission_network, sim.population, sim.events, simtime, markersize=4, legend=:none, xlim=(-2,17))\n",
    "    p2=plot([simtime], [1.0], seriestype=:scatter, markercolor=:black, markersize=4, marker=:dtriangle, legend=:none, xlabel=\"Time\", framestyle=:origin, grid=:none, tick_direction=:out, yaxis=false, xticks=0:25:200, aspect_ratio=4, ylim=(-1,1), xlim=(-10,210), xaxis=font(8))\n",
    "    l = @layout [a{0.975h}; b]   \n",
    "    plot(p1, p2, layout=l)\n",
    "end\n",
    "gif(anim, joinpath(@__DIR__, \"epianimation.gif\"), fps = 20);"
   ]
  },
  {
   "cell_type": "markdown",
   "metadata": {},
   "source": [
    "![Epidemic Animation](epianimation.gif)"
   ]
  },
  {
   "cell_type": "code",
   "execution_count": 7,
   "metadata": {},
   "outputs": [
    {
     "data": {
      "text/plain": [
       "1-element Array{Distribution{Univariate,S} where S<:ValueSupport,1}:\n",
       " Uniform{Float64}(a=0.0, b=1.0)"
      ]
     },
     "execution_count": 7,
     "metadata": {},
     "output_type": "execute_result"
    }
   ],
   "source": [
    "# Generate observations with Uniform(0.5, 2.5) observation delay for infection and removal\n",
    "obs = observe(sim, Uniform(0.5, 2.5), Uniform(0.5, 2.5), seq_len=100)\n",
    "\n",
    "# Optimistically assume we know the functional form of epidemic (i.e. use same risk functions used for simulation purposes)\n",
    "# Specify some priors for the risk parameters of our various risk functions\n",
    "rpriors = RiskPriors{SIR}([Exponential(0.0001)],\n",
    "                          UnivariateDistribution[],\n",
    "                          [Uniform(1.0, 7.0)],\n",
    "                          UnivariateDistribution[],\n",
    "                          [Uniform(0.0, 1.0)])\n",
    "\n",
    "# Set some extents for event data augmentation\n",
    "ee = EventExtents{SIR}(5.0, 5.0)\n",
    "\n",
    "# Substitution Model priors\n",
    "smpriors = UnivariateDistribution[Uniform(0,1)]"
   ]
  },
  {
   "cell_type": "code",
   "execution_count": 9,
   "metadata": {},
   "outputs": [
    {
     "name": "stderr",
     "output_type": "stream",
     "text": [
      "\u001b[32mInitialization progress100%|████████████████████████████| Time: 0:00:47\u001b[39m\n",
      "\u001b[32mMCMC progress100%|██████████████████████████████████████| Time: 0:04:45\u001b[39m\n"
     ]
    },
    {
     "data": {
      "text/plain": [
       "SIR Pathogen.PhylodynamicILM MCMC with 1 Markov chains"
      ]
     },
     "execution_count": 9,
     "metadata": {},
     "output_type": "execute_result"
    }
   ],
   "source": [
    "# Initialize MCMC\n",
    "mcmc = MCMC(obs, ee, pop, starting_states, rf, rpriors, JC69abs, smpriors)\n",
    "start!(mcmc, attempts=5000) # 1 chain, with 50k initialization attempts\n",
    "\n",
    "# Run MCMC\n",
    "iterate!(mcmc, 5000, 1.0, event_batches=5)"
   ]
  },
  {
   "cell_type": "code",
   "execution_count": 18,
   "metadata": {},
   "outputs": [
    {
     "data": {
      "text/plain": [
       "(\r",
       "\u001b[0mPhylogenetic tree with 206 nodes and 205 branches, Union{Nothing, Int64}[4, 152, 53, 84, 198, 176, 183, 180, 36, nothing  …  34, 109, 37, 194, 11, 111, 79, 197, 113, 28])"
      ]
     },
     "execution_count": 18,
     "metadata": {},
     "output_type": "execute_result"
    }
   ],
   "source": [
    "phylot, nodes = Pathogen.generate(Tree, mcmc.markov_chains[1].events[end], obs.infection, mcmc.markov_chains[1].transmission_network[end])"
   ]
  },
  {
   "cell_type": "code",
   "execution_count": 19,
   "metadata": {},
   "outputs": [
    {
     "ename": "ErrorException",
     "evalue": "Cannot convert Tree to series data for plotting",
     "output_type": "error",
     "traceback": [
      "Cannot convert Tree to series data for plotting",
      "",
      "Stacktrace:",
      " [1] error(::String) at ./error.jl:33",
      " [2] prepareSeriesData(::Tree) at /Users/justin/.julia/packages/Plots/cc8wh/src/series.jl:14",
      " [3] convertToAnyVector(::Tree, ::Dict{Symbol,Any}) at /Users/justin/.julia/packages/Plots/cc8wh/src/series.jl:29",
      " [4] macro expansion at /Users/justin/.julia/packages/Plots/cc8wh/src/series.jl:129 [inlined]",
      " [5] apply_recipe(::Dict{Symbol,Any}, ::Type{Plots.SliceIt}, ::Nothing, ::Tree, ::Nothing) at /Users/justin/.julia/packages/RecipesBase/jcXIg/src/RecipesBase.jl:281",
      " [6] _process_userrecipes(::Plots.Plot{Plots.GRBackend}, ::Dict{Symbol,Any}, ::Tuple{Tree}) at /Users/justin/.julia/packages/Plots/cc8wh/src/pipeline.jl:85",
      " [7] _plot!(::Plots.Plot{Plots.GRBackend}, ::Dict{Symbol,Any}, ::Tuple{Tree}) at /Users/justin/.julia/packages/Plots/cc8wh/src/plot.jl:178",
      " [8] plot(::Tree; kw::Base.Iterators.Pairs{Union{},Union{},Tuple{},NamedTuple{(),Tuple{}}}) at /Users/justin/.julia/packages/Plots/cc8wh/src/plot.jl:57",
      " [9] plot(::Tree) at /Users/justin/.julia/packages/Plots/cc8wh/src/plot.jl:51",
      " [10] top-level scope at In[19]:1"
     ]
    }
   ],
   "source": [
    "plot(phylot)"
   ]
  },
  {
   "cell_type": "code",
   "execution_count": 17,
   "metadata": {},
   "outputs": [],
   "source": [
    "using JLD2\n",
    "@save \"phylotree.JLD2\" phylot"
   ]
  },
  {
   "cell_type": "code",
   "execution_count": 9,
   "metadata": {},
   "outputs": [],
   "source": [
    "# MCMC and posterior plots\n",
    "p1 = plot(1:20:50001,\n",
    "  mcmc.markov_chains[1].risk_parameters, yscale=:log10, title=\"TN-ILM parameters\", xguidefontsize=8, yguidefontsize=8, xtickfontsize=7, ytickfontsize=7, titlefontsize=11, bottom_margin=30px)\n",
    "\n",
    "p2 = plot(mcmc.markov_chains[1].events[10000], State_S,\n",
    "          linealpha=0.01, title=\"S\", xguidefontsize=8, yguidefontsize=8,\n",
    "          xtickfontsize=7, ytickfontsize=7, titlefontsize=11)\n",
    "for i=10020:20:50000\n",
    "  plot!(p2, mcmc.markov_chains[1].events[i], State_S, linealpha=0.01)\n",
    "end\n",
    "plot!(p2, sim.events, State_S, linecolor=:black, linewidth=1.5)\n",
    "\n",
    "p3 = plot(mcmc.markov_chains[1].events[10000], State_I,\n",
    "          linealpha=0.01, title=\"I\", xguidefontsize=8, yguidefontsize=8, xtickfontsize=7, ytickfontsize=7, titlefontsize=11)\n",
    "for i=10020:20:50000\n",
    "  plot!(p3, mcmc.markov_chains[1].events[i], State_I, linealpha=0.01)\n",
    "end\n",
    "plot!(p3, sim.events, State_I, linecolor=:black, linewidth=1.5)\n",
    "\n",
    "p4 = plot(mcmc.markov_chains[1].events[10000], State_R,\n",
    "          linealpha=0.01, title=\"R\", xguidefontsize=8, yguidefontsize=8, xtickfontsize=7, ytickfontsize=7, titlefontsize=11)\n",
    "for i=10020:20:50000\n",
    "  plot!(p4, mcmc.markov_chains[1].events[i], State_R, linealpha=0.01)\n",
    "end\n",
    "plot!(p4, sim.events, State_R, linecolor=:black, linewidth=1.5)\n",
    "\n",
    "l = @layout [a; [b c d]]\n",
    "combinedplots2 = plot(p1, p2, p3, p4, layout=l)\n",
    "png(combinedplots2, joinpath(@__DIR__, \"posterior.png\"))"
   ]
  },
  {
   "cell_type": "markdown",
   "metadata": {},
   "source": [
    "![Posterior](posterior.png)"
   ]
  },
  {
   "cell_type": "code",
   "execution_count": 10,
   "metadata": {},
   "outputs": [],
   "source": [
    "p1 = plot(sim.transmission_network, sim.population, title=\"True Transmission\\nNetwork\", titlefontsize=11, framestyle=:box)\n",
    "\n",
    "tnp = TransmissionNetworkPosterior(mcmc, burnin=10000, thin=20)\n",
    "p2 = plot(tnp, sim.population, title=\"Transmission Network\\nPosterior Distribution\", titlefontsize=11, framestyle=:box)\n",
    "\n",
    "combinedplots3 = plot(p1, p2, layout=(1, 2))\n",
    "png(combinedplots3, joinpath(@__DIR__, \"posterior_tn.png\"))"
   ]
  },
  {
   "cell_type": "markdown",
   "metadata": {},
   "source": [
    "![Transmission Posterior](posterior_tn.png)"
   ]
  },
  {
   "cell_type": "code",
   "execution_count": 11,
   "metadata": {},
   "outputs": [
    {
     "data": {
      "text/html": [
       "<table class=\"data-frame\"><thead><tr><th></th><th>parameter</th><th>mean</th><th>var</th><th>CI</th></tr><tr><th></th><th>String</th><th>Float64</th><th>Float64</th><th>Tuple…</th></tr></thead><tbody><p>3 rows × 4 columns</p><tr><th>1</th><td>ϵ₁</td><td>0.000103253</td><td>9.86147e-9</td><td>(2.86889e-6, 0.00036864)</td></tr><tr><th>2</th><td>κ₁</td><td>3.9673</td><td>0.0179365</td><td>(3.71549, 4.24133)</td></tr><tr><th>3</th><td>Ωr₁</td><td>0.0816818</td><td>8.45687e-5</td><td>(0.0652013, 0.100104)</td></tr></tbody></table>"
      ],
      "text/latex": [
       "\\begin{tabular}{r|cccc}\n",
       "\t& parameter & mean & var & CI\\\\\n",
       "\t\\hline\n",
       "\t& String & Float64 & Float64 & Tuple…\\\\\n",
       "\t\\hline\n",
       "\t1 & ϵ₁ & 0.000103253 & 9.86147e-9 & (2.86889e-6, 0.00036864) \\\\\n",
       "\t2 & κ₁ & 3.9673 & 0.0179365 & (3.71549, 4.24133) \\\\\n",
       "\t3 & Ωr₁ & 0.0816818 & 8.45687e-5 & (0.0652013, 0.100104) \\\\\n",
       "\\end{tabular}\n"
      ],
      "text/plain": [
       "3×4 DataFrame\n",
       "│ Row │ parameter │ mean        │ var        │ CI                       │\n",
       "│     │ \u001b[90mString\u001b[39m    │ \u001b[90mFloat64\u001b[39m     │ \u001b[90mFloat64\u001b[39m    │ \u001b[90mTuple{Float64,Float64}\u001b[39m   │\n",
       "├─────┼───────────┼─────────────┼────────────┼──────────────────────────┤\n",
       "│ 1   │ ϵ₁        │ 0.000103253 │ 9.86147e-9 │ (2.86889e-6, 0.00036864) │\n",
       "│ 2   │ κ₁        │ 3.9673      │ 0.0179365  │ (3.71549, 4.24133)       │\n",
       "│ 3   │ Ωr₁       │ 0.0816818   │ 8.45687e-5 │ (0.0652013, 0.100104)    │"
      ]
     },
     "execution_count": 11,
     "metadata": {},
     "output_type": "execute_result"
    }
   ],
   "source": [
    "summary(mcmc, burnin=10000, thin=20)"
   ]
  }
 ],
 "metadata": {
  "@webio": {
   "lastCommId": null,
   "lastKernelId": null
  },
  "kernelspec": {
   "display_name": "Julia 1.4.1",
   "language": "julia",
   "name": "julia-1.4"
  },
  "language_info": {
   "file_extension": ".jl",
   "mimetype": "application/julia",
   "name": "julia",
   "version": "1.4.1"
  }
 },
 "nbformat": 4,
 "nbformat_minor": 4
}
